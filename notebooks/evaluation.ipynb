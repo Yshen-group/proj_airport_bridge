{
 "cells": [
  {
   "cell_type": "code",
   "execution_count": 23,
   "metadata": {},
   "outputs": [],
   "source": [
    "import pandas as pd \n",
    "import numpy as np\n",
    "import matplotlib.pyplot as plt\n",
    "import seaborn as sns"
   ]
  },
  {
   "cell_type": "code",
   "execution_count": 24,
   "metadata": {},
   "outputs": [],
   "source": [
    "df = pd.read_excel('../dataset/task_exec.xlsx')"
   ]
  },
  {
   "cell_type": "code",
   "execution_count": 25,
   "metadata": {},
   "outputs": [
    {
     "name": "stdout",
     "output_type": "stream",
     "text": [
      "                 Time  Lounge  Gate  Duration  People\n",
      "0 2024-01-31 23:43:00      60    71        10  吴鸣杰施圣卿\n",
      "1 2024-02-01 00:14:00     187   617        10      胡强\n",
      "2 2024-02-01 00:18:00      88    79        10     储卫刚\n",
      "3 2024-02-01 00:39:00     187   616        10      金台\n",
      "4 2024-02-01 01:00:00      60    67        10     包金良\n"
     ]
    }
   ],
   "source": [
    "print(df.head(5))"
   ]
  },
  {
   "cell_type": "code",
   "execution_count": 26,
   "metadata": {},
   "outputs": [
    {
     "name": "stdout",
     "output_type": "stream",
     "text": [
      "缺失率 0.0\n"
     ]
    }
   ],
   "source": [
    "# 计算缺失\n",
    "missing = df['People'].isnull().sum()\n",
    "print('缺失率', missing/len(df))"
   ]
  }
 ],
 "metadata": {
  "kernelspec": {
   "display_name": "xcl_ds",
   "language": "python",
   "name": "python3"
  },
  "language_info": {
   "codemirror_mode": {
    "name": "ipython",
    "version": 3
   },
   "file_extension": ".py",
   "mimetype": "text/x-python",
   "name": "python",
   "nbconvert_exporter": "python",
   "pygments_lexer": "ipython3",
   "version": "3.9.19"
  }
 },
 "nbformat": 4,
 "nbformat_minor": 2
}
