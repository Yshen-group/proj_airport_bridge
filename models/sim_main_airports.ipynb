{
 "cells": [
  {
   "cell_type": "markdown",
   "metadata": {},
   "source": [
    "# 机场廊桥派工人员模拟环境\n",
    "\n",
    "机场廊桥过程中涉及以下智能体：\n",
    "1. 航班Flights，航班本身具有发车时间和到达时间的属性，由此诞生出任务的概念\n",
    "2. 勤务人员 individual，机场具有的人员的资质属性、位置等，动态更新是否分配任务\n",
    "\n",
    "在智能体下会产生不同的传输子类\n",
    "1. 任务类 Task，介绍航班出港或者入港带来的状态更新\n",
    "2. 航司类 AviationCompany, 介绍航司的基本信息\n",
    "\n",
    "同时存在环境 Model\n",
    "1. 环境作用：规范仿真过程中的时间和空间模块\n",
    "2. 对观察的信息作为一定的输入，不同更新 modeld 的状态"
   ]
  },
  {
   "cell_type": "code",
   "execution_count": 1,
   "metadata": {},
   "outputs": [],
   "source": [
    "import mesa\n",
    "import pandas as pd\n",
    "import numpy as np"
   ]
  },
  {
   "cell_type": "markdown",
   "metadata": {},
   "source": [
    "# 机场环境类 Model"
   ]
  },
  {
   "cell_type": "code",
   "execution_count": 26,
   "metadata": {},
   "outputs": [
    {
     "name": "stdout",
     "output_type": "stream",
     "text": [
      "    航空公司 二字代码 航班类型 停机坪  一般勤务  放行机务  维修机务  英文耳机  中文耳机\n",
      "0   国泰航空   CX    客  T2     1     0     0     0     0\n",
      "1   美国航空   AA    客  T2     1     0     0     0     0\n",
      "2  阿联酋航空   EK    客  T2     1     0     0     0     0\n",
      "3  俄罗斯航空   SU    客  T2     1     0     0     1     0\n",
      "4  加拿大航空   AC    客  T2     1     0     0     0     0\n"
     ]
    }
   ],
   "source": [
    "class Task():\n",
    "    def __init__(self) -> None:\n",
    "        # 任务需要有位置、任务选项\n",
    "        self.location = None\n",
    "        self.time = None\n",
    "        self.taskList = []\n",
    "\n",
    "class AviationCompany():\n",
    "    def __init__(self):\n",
    "        self.name = None\n",
    "        self.codingId = None\n",
    "        self.terminal = 'T2' # set for T2 or S2\n",
    "        self.isYiBan = False\n",
    "        self.isFangXing = False\n",
    "        self.isWeiXiu = False\n",
    "        self.isZhongwen = False\n",
    "        self.isYingwen = False\n",
    "    \n",
    "    def create_task(self):\n",
    "        newTask = Task()\n",
    "        newTask.location = self.terminal\n",
    "        newTask.taskList = [self.isYiBan,self.isFangXing,self.isWeiXiu,self.isZhongwen,self.isYingwen]\n",
    "        return newTask\n",
    "\n",
    "class ACsets():\n",
    "    def __init__(self):\n",
    "        self.dfCompany = pd.DataFrame(columns=['name', 'codingId', 'terminal', 'isYiBan', 'isFangXing', 'isWeiXiu', 'isZhongWen', 'isYingWen'])\n",
    "        self.companySets = set()\n",
    "    \n",
    "    def login(self,path):\n",
    "        # 根据 path 提供的航司资质来注册航司列表\n",
    "        df_com = pd.read_excel(path)\n",
    "        print(df_com.head())\n",
    "        df_com.drop(['航班类型'], axis=1, inplace=True)\n",
    "        # 重命名列\n",
    "        df_com.rename(columns={'航空公司':'name', '二字代码':'codingId', '停机坪':'terminal','一般勤务':'isYiBan','放行机务':'isFangXing','维修机务':'isWeiXiu','英文耳机':'isYingWen','中文耳机':'isZhongWen'}, inplace=True)\n",
    "        # 重命列\n",
    "        self.dfCompany = df_com\n",
    "        self.companySets = set(df_com['codingId'])\n",
    "    \n",
    "    def get_company(self,codingID):\n",
    "        # 根据二字代码获取航司信息\n",
    "        avi = AviationCompany()\n",
    "        temp_row = self.dfCompany[self.dfCompany['codingId'] == codingID]\n",
    "        if temp_row.empty:\n",
    "            return 'The company is not in the list'\n",
    "        else:\n",
    "            avi.name = temp_row['name'].values[0]\n",
    "            avi.codingId = temp_row['codingId'].values[0]\n",
    "            avi.terminal = temp_row['terminal'].values[0]\n",
    "            avi.isYiBan = temp_row['isYiBan'].values[0]\n",
    "            avi.isFangXing = temp_row['isFangXing'].values[0]\n",
    "            avi.isWeiXiu = temp_row['isWeiXiu'].values[0]\n",
    "            avi.isZhongwen = temp_row['isZhongWen'].values[0]\n",
    "            avi.isYingwen = temp_row['isYingWen'].values[0]\n",
    "            return avi\n",
    "\n",
    "path =  '../dataset/new_aviationCompany.xlsx'\n",
    "acsets = ACsets()\n",
    "acsets.login(path)"
   ]
  },
  {
   "cell_type": "code",
   "execution_count": 27,
   "metadata": {},
   "outputs": [],
   "source": [
    "class TaskSets():\n",
    "    def __init__(self):\n",
    "        # 新增 task\n",
    "        # 删除 task \n",
    "        # 获取 task 的统计信息\n",
    "        self.dfTask = pd.DataFrame(columns=['location', 'time', 'taskList'])\n",
    "        self.taskSets = set()\n",
    "    \n",
    "    def login(self,path):\n",
    "        pass \n",
    "\n",
    "    def append_task(self,task):\n",
    "        self.dfTask = self.dfTask.append({'location': task.location, 'time': task.time, 'taskList': task.taskList}, ignore_index=True)\n",
    "        self.taskSets.add(task)"
   ]
  },
  {
   "cell_type": "code",
   "execution_count": 25,
   "metadata": {},
   "outputs": [
    {
     "name": "stderr",
     "output_type": "stream",
     "text": [
      "/tmp/ipykernel_131755/3809109187.py:21: FutureWarning: The behavior of DataFrame concatenation with empty or all-NA entries is deprecated. In a future version, this will no longer exclude empty or all-NA columns when determining the result dtypes. To retain the old behavior, exclude the relevant entries before the concat operation.\n",
      "  self.airports = pd.concat([self.airports, pd.DataFrame(new_row, index=[0])], ignore_index=True)\n",
      "/tmp/ipykernel_131755/3809109187.py:33: FutureWarning: The behavior of DataFrame concatenation with empty or all-NA entries is deprecated. In a future version, this will no longer exclude empty or all-NA columns when determining the result dtypes. To retain the old behavior, exclude the relevant entries before the concat operation.\n",
      "  self.flights = pd.concat([self.flights, pd.DataFrame(new_row, index=[0])], ignore_index=True)\n"
     ]
    }
   ],
   "source": [
    "class Airports(mesa.Model):\n",
    "    def __init__(self, num_airports, num_flights):\n",
    "        # TODO 暂时未完成\n",
    "        super().__init__()\n",
    "        self.num_airports = num_airports\n",
    "        self.num_flights = num_flights\n",
    "        self.airports = pd.DataFrame(columns=['airport_id', 'x', 'y'])\n",
    "        self.flights = pd.DataFrame(columns=['flight_id', 'origin', 'destination', 'departure_time', 'arrival_time'])\n",
    "        self.airport_id = 0\n",
    "        self.flight_id = 0\n",
    "        self.create_airports()\n",
    "        self.create_flights()\n",
    "    \n",
    "    def step(self) -> None:\n",
    "        return super().step()\n",
    "    \n",
    "    def create_airports(self) -> None:\n",
    "        for i in range(self.num_airports):\n",
    "            # Create a new airport with a random x and y coordinate\n",
    "            new_row = {'airport_id': self.airport_id, 'x': np.random.uniform(0, 100), 'y': np.random.uniform(0, 100)}\n",
    "            self.airports = pd.concat([self.airports, pd.DataFrame(new_row, index=[0])], ignore_index=True)\n",
    "            self.airport_id += 1\n",
    "            \n",
    "    def create_flights(self) -> None:\n",
    "        for i in range(self.num_flights):\n",
    "            origin = np.random.choice(self.airports['airport_id'])\n",
    "            destination = np.random.choice(self.airports['airport_id'])\n",
    "            while destination == origin:\n",
    "                destination = np.random.choice(self.airports['airport_id'])\n",
    "            departure_time = np.random.uniform(0, 24)\n",
    "            arrival_time = np.random.uniform(0, 24)\n",
    "            new_row = {'flight_id': self.flight_id, 'origin': origin, 'destination': destination, 'departure_time': departure_time, 'arrival_time': arrival_time}\n",
    "            self.flights = pd.concat([self.flights, pd.DataFrame(new_row, index=[0])], ignore_index=True)\n",
    "            self.flight_id += 1\n",
    "\n",
    "airport = Airports(10, 100)"
   ]
  },
  {
   "cell_type": "markdown",
   "metadata": {},
   "source": [
    "#  人员类 individual 和 机组人员类 staff\n",
    "\n",
    "人员类需要具有的属性包括：\n",
    "1. 姓名\n",
    "2. 工号\n",
    "3. 资质 1\n",
    "4. 资质 2 \n",
    "5. 资质 3\n",
    "6. 资质 4\n",
    "7. 组别(对应四个休息室)\n",
    "8. 位置\n",
    "\n",
    "人员类的方法\n",
    "TODO 2024-03-21 待定"
   ]
  },
  {
   "cell_type": "code",
   "execution_count": 10,
   "metadata": {},
   "outputs": [],
   "source": [
    "class individual():\n",
    "    def __init__(self, unique_id, model):\n",
    "        self.name = None\n",
    "        # 增加基础属性\n",
    "        self.isYiBan = False\n",
    "        self.isLangQiao = False\n",
    "        self.isQiaozai = False\n",
    "        self.isZhongwen = False\n",
    "        self.isYingyu = False\n",
    "        self.workDuration = 0\n",
    "        self.restPos = 183 # 183\\60\\70\\39\n",
    "        self.pos = 50 # 机位的选择\n",
    "        self.isWork = False\n",
    "    \n",
    "    def step(self):\n",
    "        print('individual step')\n",
    "\n",
    "class staffSets(mesa.Agent):\n",
    "    def __init__(self, num_individuals, airport):\n",
    "        super().__init__()\n",
    "        self.num_individuals = num_individuals\n",
    "        self.individuals = pd.DataFrame(columns=['individual_id', 'name', 'isYiBan', 'isLangQiao', 'isQiaozai', 'isZhongwen', 'isYingyu', 'workDuration', 'restPos', 'pos', 'isWork'])\n",
    "        \n",
    "    \n",
    "    def login(self,path):\n",
    "        # 根据资质来注册员工列表\n",
    "        pass\n",
    "\n",
    "    def append_individual(self,individual):\n",
    "        self.individuals.append(individual)\n",
    "    \n",
    "    def get_Idle_individual(self):\n",
    "        # 获取空闲的员工\n",
    "        pass\n",
    "\n",
    "    \n",
    "    def step(self):\n",
    "        for individual in self.individuals:\n",
    "            individual.step()\n",
    "\n",
    "individual = individual(1, airport)"
   ]
  }
 ],
 "metadata": {
  "kernelspec": {
   "display_name": "sim",
   "language": "python",
   "name": "python3"
  },
  "language_info": {
   "codemirror_mode": {
    "name": "ipython",
    "version": 3
   },
   "file_extension": ".py",
   "mimetype": "text/x-python",
   "name": "python",
   "nbconvert_exporter": "python",
   "pygments_lexer": "ipython3",
   "version": "3.12.2"
  }
 },
 "nbformat": 4,
 "nbformat_minor": 2
}
