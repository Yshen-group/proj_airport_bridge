{
 "cells": [
  {
   "cell_type": "code",
   "execution_count": 33,
   "metadata": {},
   "outputs": [],
   "source": [
    "import pandas as pd\n",
    "import numpy as np \n",
    "import matplotlib.pyplot as plt"
   ]
  },
  {
   "cell_type": "code",
   "execution_count": 34,
   "metadata": {},
   "outputs": [],
   "source": [
    "df_zizhi = pd.read_excel('../dataset/人员资质证明.xlsx')\n",
    "df_group = pd.read_excel('../dataset/人员组别.xlsx')"
   ]
  },
  {
   "cell_type": "code",
   "execution_count": 35,
   "metadata": {},
   "outputs": [
    {
     "data": {
      "text/html": [
       "<div>\n",
       "<style scoped>\n",
       "    .dataframe tbody tr th:only-of-type {\n",
       "        vertical-align: middle;\n",
       "    }\n",
       "\n",
       "    .dataframe tbody tr th {\n",
       "        vertical-align: top;\n",
       "    }\n",
       "\n",
       "    .dataframe thead th {\n",
       "        text-align: right;\n",
       "    }\n",
       "</style>\n",
       "<table border=\"1\" class=\"dataframe\">\n",
       "  <thead>\n",
       "    <tr style=\"text-align: right;\">\n",
       "      <th></th>\n",
       "      <th>序号</th>\n",
       "      <th>姓名</th>\n",
       "      <th>工号</th>\n",
       "      <th>一般勤务</th>\n",
       "      <th>廊桥操作</th>\n",
       "      <th>桥载操作</th>\n",
       "      <th>机组通话</th>\n",
       "    </tr>\n",
       "  </thead>\n",
       "  <tbody>\n",
       "    <tr>\n",
       "      <th>0</th>\n",
       "      <td>1</td>\n",
       "      <td>蔡玉傲</td>\n",
       "      <td>27096</td>\n",
       "      <td>√</td>\n",
       "      <td>√</td>\n",
       "      <td>√</td>\n",
       "      <td>C/E</td>\n",
       "    </tr>\n",
       "    <tr>\n",
       "      <th>1</th>\n",
       "      <td>2</td>\n",
       "      <td>顾超</td>\n",
       "      <td>27205</td>\n",
       "      <td>√</td>\n",
       "      <td>√</td>\n",
       "      <td>√</td>\n",
       "      <td>C/E</td>\n",
       "    </tr>\n",
       "    <tr>\n",
       "      <th>2</th>\n",
       "      <td>3</td>\n",
       "      <td>毛伟飞</td>\n",
       "      <td>28045</td>\n",
       "      <td>√</td>\n",
       "      <td>√</td>\n",
       "      <td>√(带教)</td>\n",
       "      <td>C/E</td>\n",
       "    </tr>\n",
       "    <tr>\n",
       "      <th>3</th>\n",
       "      <td>4</td>\n",
       "      <td>张金龙</td>\n",
       "      <td>85236</td>\n",
       "      <td>√</td>\n",
       "      <td>√</td>\n",
       "      <td>√</td>\n",
       "      <td>C</td>\n",
       "    </tr>\n",
       "    <tr>\n",
       "      <th>4</th>\n",
       "      <td>5</td>\n",
       "      <td>蒋佳钧</td>\n",
       "      <td>85242</td>\n",
       "      <td>√</td>\n",
       "      <td>√</td>\n",
       "      <td>√(带教)</td>\n",
       "      <td>C/E</td>\n",
       "    </tr>\n",
       "  </tbody>\n",
       "</table>\n",
       "</div>"
      ],
      "text/plain": [
       "   序号   姓名     工号 一般勤务 廊桥操作   桥载操作 机组通话\n",
       "0   1  蔡玉傲  27096    √    √      √  C/E\n",
       "1   2   顾超  27205    √    √      √  C/E\n",
       "2   3  毛伟飞  28045    √    √  √(带教)  C/E\n",
       "3   4  张金龙  85236    √    √      √    C\n",
       "4   5  蒋佳钧  85242    √    √  √(带教)  C/E"
      ]
     },
     "execution_count": 35,
     "metadata": {},
     "output_type": "execute_result"
    }
   ],
   "source": [
    "df_zizhi.head()"
   ]
  },
  {
   "cell_type": "code",
   "execution_count": 36,
   "metadata": {},
   "outputs": [],
   "source": [
    "df_group.head()\n",
    "df_group.rename(columns={'人员':'姓名'}, inplace=True)"
   ]
  },
  {
   "cell_type": "code",
   "execution_count": 43,
   "metadata": {},
   "outputs": [
    {
     "data": {
      "text/html": [
       "<div>\n",
       "<style scoped>\n",
       "    .dataframe tbody tr th:only-of-type {\n",
       "        vertical-align: middle;\n",
       "    }\n",
       "\n",
       "    .dataframe tbody tr th {\n",
       "        vertical-align: top;\n",
       "    }\n",
       "\n",
       "    .dataframe thead th {\n",
       "        text-align: right;\n",
       "    }\n",
       "</style>\n",
       "<table border=\"1\" class=\"dataframe\">\n",
       "  <thead>\n",
       "    <tr style=\"text-align: right;\">\n",
       "      <th></th>\n",
       "      <th>姓名</th>\n",
       "      <th>桥载</th>\n",
       "      <th>廊桥</th>\n",
       "      <th>勤务</th>\n",
       "      <th>耳机</th>\n",
       "      <th>休息室</th>\n",
       "      <th>组别</th>\n",
       "      <th>机组通话</th>\n",
       "    </tr>\n",
       "  </thead>\n",
       "  <tbody>\n",
       "    <tr>\n",
       "      <th>0</th>\n",
       "      <td>胡强</td>\n",
       "      <td>1.0</td>\n",
       "      <td>1.0</td>\n",
       "      <td>1.0</td>\n",
       "      <td>1.0</td>\n",
       "      <td>187</td>\n",
       "      <td>1</td>\n",
       "      <td>C</td>\n",
       "    </tr>\n",
       "    <tr>\n",
       "      <th>1</th>\n",
       "      <td>邵卫民</td>\n",
       "      <td>1.0</td>\n",
       "      <td>1.0</td>\n",
       "      <td>0.0</td>\n",
       "      <td>0.0</td>\n",
       "      <td>187</td>\n",
       "      <td>1</td>\n",
       "      <td>NaN</td>\n",
       "    </tr>\n",
       "    <tr>\n",
       "      <th>2</th>\n",
       "      <td>秦天柱</td>\n",
       "      <td>1.0</td>\n",
       "      <td>1.0</td>\n",
       "      <td>0.0</td>\n",
       "      <td>0.0</td>\n",
       "      <td>187</td>\n",
       "      <td>1</td>\n",
       "      <td>NaN</td>\n",
       "    </tr>\n",
       "    <tr>\n",
       "      <th>3</th>\n",
       "      <td>金台</td>\n",
       "      <td>1.0</td>\n",
       "      <td>1.0</td>\n",
       "      <td>1.0</td>\n",
       "      <td>1.0</td>\n",
       "      <td>187</td>\n",
       "      <td>1</td>\n",
       "      <td>C</td>\n",
       "    </tr>\n",
       "    <tr>\n",
       "      <th>4</th>\n",
       "      <td>俞诗嘉</td>\n",
       "      <td>1.0</td>\n",
       "      <td>1.0</td>\n",
       "      <td>1.0</td>\n",
       "      <td>1.0</td>\n",
       "      <td>187</td>\n",
       "      <td>1</td>\n",
       "      <td>C/E</td>\n",
       "    </tr>\n",
       "  </tbody>\n",
       "</table>\n",
       "</div>"
      ],
      "text/plain": [
       "    姓名   桥载   廊桥   勤务   耳机  休息室  组别 机组通话\n",
       "0   胡强  1.0  1.0  1.0  1.0  187   1    C\n",
       "1  邵卫民  1.0  1.0  0.0  0.0  187   1  NaN\n",
       "2  秦天柱  1.0  1.0  0.0  0.0  187   1  NaN\n",
       "3   金台  1.0  1.0  1.0  1.0  187   1    C\n",
       "4  俞诗嘉  1.0  1.0  1.0  1.0  187   1  C/E"
      ]
     },
     "execution_count": 43,
     "metadata": {},
     "output_type": "execute_result"
    }
   ],
   "source": [
    "df_group.fillna(0, inplace=True)\n",
    "df_new = pd.merge(df_group, df_zizhi[['姓名','机组通话']], on='姓名', how='left')\n",
    "# df_new = df_new[((df_new['耳机']==1) & (df_new['机组通话'].isnull())) | ((df_new['耳机']==0) & (df_new['机组通话'].notnull()))]\n",
    "df_new.head()"
   ]
  },
  {
   "cell_type": "code",
   "execution_count": 47,
   "metadata": {},
   "outputs": [],
   "source": [
    "df_new['机组通话'].unique()\n",
    "df_new['中文'] = df_new['机组通话'].notna()\n",
    "df_new['英文'] = df_new['机组通话'] == 'C/E'\n",
    "df_new.drop(columns=['机组通话','耳机'], inplace=True)"
   ]
  },
  {
   "cell_type": "code",
   "execution_count": 50,
   "metadata": {},
   "outputs": [
    {
     "data": {
      "text/plain": [
       "(74, 16)"
      ]
     },
     "execution_count": 50,
     "metadata": {},
     "output_type": "execute_result"
    }
   ],
   "source": [
    "df_new['中文'].sum(), df_new['英文'].sum()"
   ]
  }
 ],
 "metadata": {
  "kernelspec": {
   "display_name": "sim",
   "language": "python",
   "name": "python3"
  },
  "language_info": {
   "codemirror_mode": {
    "name": "ipython",
    "version": 3
   },
   "file_extension": ".py",
   "mimetype": "text/x-python",
   "name": "python",
   "nbconvert_exporter": "python",
   "pygments_lexer": "ipython3",
   "version": "3.12.2"
  }
 },
 "nbformat": 4,
 "nbformat_minor": 2
}
